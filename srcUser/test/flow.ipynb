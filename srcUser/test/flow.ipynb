{
 "cells": [
  {
   "cell_type": "markdown",
   "metadata": {},
   "source": [
    "# 손글씨 flow"
   ]
  },
  {
   "cell_type": "markdown",
   "metadata": {},
   "source": [
    "1. 사용자가 작성할 글자를 지정\n",
    "2. 캔버스로 이동\n",
    "3. 모범 답안 확인\n",
    "4. func 버튼을 눌러 캔버스 모드로 전환\n",
    "5. 초기 위치를 지정\n",
    "6. 초기 위치에 글자 첫 시작점 위치\n"
   ]
  },
  {
   "cell_type": "markdown",
   "metadata": {},
   "source": []
  }
 ],
 "metadata": {
  "language_info": {
   "name": "python"
  }
 },
 "nbformat": 4,
 "nbformat_minor": 2
}
